{
 "cells": [
  {
   "attachments": {},
   "cell_type": "markdown",
   "metadata": {},
   "source": [
    "# Body Mass Index (BMI) Calculator"
   ]
  },
  {
   "attachments": {},
   "cell_type": "markdown",
   "metadata": {},
   "source": [
    "This calculator will help calculate the fat level in a person's body, using weight and height as input. All calculations are done with the metric system. \n",
    "\n",
    "Additionally, the BMI result will be classified into one of the following categories:\n",
    "\n",
    "<p> BMI < 18.5  &rarr;  Underweight <br>\n",
    "18.5 <= BMI <= 24.9  &rarr;  Normal weight <br>\n",
    "25 <= BMI <= 29.9  &rarr;  Overweight <br>\n",
    "BMI >= 30  &rarr;  Obesity <p>"
   ]
  },
  {
   "cell_type": "code",
   "execution_count": null,
   "metadata": {},
   "outputs": [],
   "source": [
    "name = input(\"Enter your name: \")\n",
    "weight = int(float(input(\"Enter your weight in kilograms:  \")))\n",
    "height = int(float(input(\"Enter your height in centimeters: \")))\n",
    "\n",
    "BMI = weight / (float(height*height) / 10000)\n",
    "print(name + \" your BMI is: \" + str(BMI))\n",
    "\n",
    "if BMI > 0:\n",
    "    if (BMI<18.8):\n",
    "        print(\"Your BMI is in the range of underwight\")\n",
    "    elif(BMI<=24.9):\n",
    "        print(\"Your BMI is in the range of normal weight\")\n",
    "    elif(BMI<=29.9):\n",
    "        print(\"Your BMI is in the range of overweight\")\n",
    "    else:\n",
    "        print(\"Your BMI is in the range of obesity\")\n",
    "else: \n",
    "    print(\"Enter valid input\")"
   ]
  }
 ],
 "metadata": {
  "kernelspec": {
   "display_name": "Python 3",
   "language": "python",
   "name": "python3"
  },
  "language_info": {
   "codemirror_mode": {
    "name": "ipython",
    "version": 3
   },
   "file_extension": ".py",
   "mimetype": "text/x-python",
   "name": "python",
   "nbconvert_exporter": "python",
   "pygments_lexer": "ipython3",
   "version": "3.10.9"
  },
  "orig_nbformat": 4,
  "vscode": {
   "interpreter": {
    "hash": "b0fa6594d8f4cbf19f97940f81e996739fb7646882a419484c72d19e05852a7e"
   }
  }
 },
 "nbformat": 4,
 "nbformat_minor": 2
}
